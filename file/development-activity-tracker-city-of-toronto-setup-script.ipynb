{
 "cells": [
  {
   "cell_type": "markdown",
   "metadata": {},
   "source": [
    "## Development Activity Tracker - Setup"
   ]
  },
  {
   "cell_type": "markdown",
   "metadata": {},
   "source": [
    "### 1. Create Connection to GIS Environment"
   ]
  },
  {
   "cell_type": "code",
   "execution_count": null,
   "metadata": {},
   "outputs": [],
   "source": [
    "# Reference: https://developers.arcgis.com/python/api-reference/arcgis.gis.toc.html#arcgis.gis.GIS\n",
    "from arcgis.gis import GIS\n",
    "gis = GIS(\"home\")"
   ]
  },
  {
   "cell_type": "markdown",
   "metadata": {},
   "source": [
    "### 2. Publish Hosted Layers"
   ]
  },
  {
   "cell_type": "code",
   "execution_count": null,
   "metadata": {},
   "outputs": [],
   "source": [
    "from arcgis.features import FeatureLayerCollection"
   ]
  },
  {
   "cell_type": "code",
   "execution_count": null,
   "metadata": {},
   "outputs": [],
   "source": [
    "# Create a new folder for the items (do nothing if the folder already exists)\n",
    "# Reference: https://developers.arcgis.com/python/api-reference/arcgis.gis.toc.html#arcgis.gis.ContentManager.create_folder\n",
    "folder = \"Development Activity Tracker\"\n",
    "gis.content.create_folder(folder = folder)"
   ]
  },
  {
   "cell_type": "markdown",
   "metadata": {},
   "source": [
    "#### Development Applications"
   ]
  },
  {
   "cell_type": "code",
   "execution_count": null,
   "metadata": {},
   "outputs": [],
   "source": [
    "# Add data to the Portal\n",
    "# Reference: https://developers.arcgis.com/python/api-reference/arcgis.gis.toc.html#arcgis.gis.ContentManager.add\n",
    "dev_prop = { \n",
    "    \"title\": \"Development Applications\", \n",
    "    \"snippet\": \"Development Applications in the City of Toronto\", \n",
    "    \"description\": \"This dataset lists all currently active (open) and inactive (closed) Community Planning applications, Committee of Adjustment applications and Toronto Local Appeal Body appeals received by the City between January 1st 2008 till present. The original dataset can be downloaded from the City of Toronto Open Data Portal https://open.toronto.ca/dataset/development-applications/.\", \n",
    "    \"licenseInfo\": \"Open Government Licence https://www.toronto.ca/city-government/data-research-maps/open-data/open-data-licence/\", \n",
    "    \"accessInformation\": \"City of Toronto\",\n",
    "    \"tags\": \"development, planning, toronto\"\n",
    "}\n",
    "dev_source = \"https://ckan0.cf.opendata.inter.prod-toronto.ca/dataset/0aa7e480-9b48-4919-98e0-6af7615b7809/resource/060be258-88ef-4fa3-a159-cbb60c9c1d47/download/Development%20Applications%20Data.csv\"\n",
    "dev_csv = gis.content.add(item_properties = dev_prop, data = dev_source, folder = folder)\n",
    "display(dev_csv)"
   ]
  },
  {
   "cell_type": "code",
   "execution_count": null,
   "metadata": {},
   "outputs": [],
   "source": [
    "# Publish hosted table layer\n",
    "# Reference: https://developers.arcgis.com/python/api-reference/arcgis.gis.toc.html#arcgis.gis.Item.publish\n",
    "dev_table = dev_csv.publish(publish_parameters={\"name\": \"DevelopmentApplicationsTable\", \"locationType\": \"None\"})\n",
    "display(dev_table)"
   ]
  },
  {
   "cell_type": "code",
   "execution_count": null,
   "metadata": {},
   "outputs": [],
   "source": [
    "# Update item properties\n",
    "# Reference: https://developers.arcgis.com/python/api-reference/arcgis.gis.toc.html#arcgis.gis.Item.update\n",
    "dev_table_prop = { \n",
    "    \"title\": \"Development Applications Table\", \n",
    "    \"snippet\": \"Development Applications in the City of Toronto\", \n",
    "    \"description\": \"This dataset lists all currently active (open) and inactive (closed) Community Planning applications, Committee of Adjustment applications and Toronto Local Appeal Body appeals received by the City between January 1st 2008 till present. The original dataset can be downloaded from the City of Toronto Open Data Portal https://open.toronto.ca/dataset/development-applications/.\", \n",
    "    \"licenseInfo\": \"Open Government Licence https://www.toronto.ca/city-government/data-research-maps/open-data/open-data-licence/\", \n",
    "    \"accessInformation\": \"City of Toronto\",\n",
    "    \"tags\": \"development, planning, toronto\"\n",
    "}\n",
    "dev_table.update(item_properties = dev_table_prop)"
   ]
  },
  {
   "cell_type": "code",
   "execution_count": null,
   "metadata": {},
   "outputs": [],
   "source": [
    "# Turn off editing and enable sanitizing invalid content\n",
    "# Reference: https://developers.arcgis.com/python/api-reference/arcgis.features.managers/#arcgis.features.managers.FeatureLayerCollectionManager.fromitem\n",
    "# Reference: https://developers.arcgis.com/python/api-reference/arcgis.features.managers/#arcgis.features.managers.FeatureLayerCollectionManager.update_definition\n",
    "# Reference: https://developers.arcgis.com/rest/services-reference/enterprise/update-definition-feature-service-.htm\n",
    "dev_table_flc = FeatureLayerCollection.fromitem(dev_table)\n",
    "dev_table_flc.manager.update_definition({\"capabilities\": \"Query\", \"xssPreventionInfo\": {\"xssInputRule\": \"sanitizeInvalid\"}})"
   ]
  },
  {
   "cell_type": "code",
   "execution_count": null,
   "metadata": {},
   "outputs": [],
   "source": [
    "# Update layer name\n",
    "# Reference: https://developers.arcgis.com/python/api-reference/arcgis.features.managers/#arcgis.features.managers.FeatureLayerManager.update_definition\n",
    "dev_tlayer = dev_table.tables[0]\n",
    "dev_tlayer.manager.update_definition({\"name\": \"Development Applications Table\"})"
   ]
  },
  {
   "cell_type": "code",
   "execution_count": null,
   "metadata": {},
   "outputs": [],
   "source": [
    "# Create feature service\n",
    "# Reference: https://developers.arcgis.com/python/api-reference/arcgis.gis.toc.html#arcgis.gis.ContentManager.create_service\n",
    "dev_item = gis.content.create_service(name = \"DevelopmentApplications\", service_type = \"featureService\", folder = folder)\n",
    "display(dev_item)"
   ]
  },
  {
   "cell_type": "code",
   "execution_count": null,
   "metadata": {},
   "outputs": [],
   "source": [
    "# Update item properties\n",
    "# Reference: https://developers.arcgis.com/python/api-reference/arcgis.gis.toc.html#arcgis.gis.Item.update\n",
    "dev_item.update(item_properties = dev_prop)"
   ]
  },
  {
   "cell_type": "code",
   "execution_count": null,
   "metadata": {},
   "outputs": [],
   "source": [
    "# Add hosted feature layer\n",
    "# Reference: https://developers.arcgis.com/python/api-reference/arcgis.features.managers/#arcgis.features.managers.FeatureLayerCollectionManager.fromitem\n",
    "# Reference: https://developers.arcgis.com/python/api-reference/arcgis.features.managers/?#arcgis.features.managers.FeatureLayerCollectionManager.add_to_definition\n",
    "dev_flc = FeatureLayerCollection.fromitem(dev_item)\n",
    "new_layer = {'layers':[{'name':'Development Applications','geometryType':'esriGeometryPoint','objectIdField':'OBJECTID','fields':[{'name':'F_id','type':'esriFieldTypeInteger','actualType':'int','alias':'_id','sqlType':'sqlTypeInteger','nullable':True,'editable':True,'domain':None,'defaultValue':None},{'name':'APPLICATION_','type':'esriFieldTypeString','actualType':'nvarchar','alias':'APPLICATION#','sqlType':'sqlTypeNVarchar','length':256,'nullable':True,'editable':True,'domain':None,'defaultValue':None},{'name':'APPLICATION_TYPE','type':'esriFieldTypeString','actualType':'nvarchar','alias':'APPLICATION_TYPE','sqlType':'sqlTypeNVarchar','length':256,'nullable':True,'editable':True,'domain':None,'defaultValue':None},{'name':'DATE_SUBMITTED','type':'esriFieldTypeDate','actualType':'datetime2','alias':'DATE_SUBMITTED','sqlType':'sqlTypeTimestamp2','length':8,'nullable':True,'editable':True,'domain':None,'defaultValue':None},{'name':'DESCRIPTION','type':'esriFieldTypeString','actualType':'nvarchar','alias':'DESCRIPTION','sqlType':'sqlTypeNVarchar','length':2778,'nullable':True,'editable':True,'domain':None,'defaultValue':None},{'name':'HEARING_DATE','type':'esriFieldTypeDate','actualType':'datetime2','alias':'HEARING_DATE','sqlType':'sqlTypeTimestamp2','length':8,'nullable':True,'editable':True,'domain':None,'defaultValue':None},{'name':'POSTAL','type':'esriFieldTypeString','actualType':'nvarchar','alias':'POSTAL','sqlType':'sqlTypeNVarchar','length':256,'nullable':True,'editable':True,'domain':None,'defaultValue':None},{'name':'REFERENCE_FILE_','type':'esriFieldTypeString','actualType':'nvarchar','alias':'REFERENCE_FILE#','sqlType':'sqlTypeNVarchar','length':256,'nullable':True,'editable':True,'domain':None,'defaultValue':None},{'name':'STATUS','type':'esriFieldTypeString','actualType':'nvarchar','alias':'STATUS','sqlType':'sqlTypeNVarchar','length':256,'nullable':True,'editable':True,'domain':None,'defaultValue':None},{'name':'STREET_DIRECTION','type':'esriFieldTypeString','actualType':'nvarchar','alias':'STREET_DIRECTION','sqlType':'sqlTypeNVarchar','length':256,'nullable':True,'editable':True,'domain':None,'defaultValue':None},{'name':'STREET_NAME','type':'esriFieldTypeString','actualType':'nvarchar','alias':'STREET_NAME','sqlType':'sqlTypeNVarchar','length':256,'nullable':True,'editable':True,'domain':None,'defaultValue':None},{'name':'STREET_NUM','type':'esriFieldTypeString','actualType':'nvarchar','alias':'STREET_NUM','sqlType':'sqlTypeNVarchar','length':256,'nullable':True,'editable':True,'domain':None,'defaultValue':None},{'name':'STREET_TYPE','type':'esriFieldTypeString','actualType':'nvarchar','alias':'STREET_TYPE','sqlType':'sqlTypeNVarchar','length':256,'nullable':True,'editable':True,'domain':None,'defaultValue':None},{'name':'X','type':'esriFieldTypeDouble','actualType':'float','alias':'X','sqlType':'sqlTypeFloat','nullable':True,'editable':True,'domain':None,'defaultValue':None},{'name':'Y','type':'esriFieldTypeDouble','actualType':'float','alias':'Y','sqlType':'sqlTypeFloat','nullable':True,'editable':True,'domain':None,'defaultValue':None},{'name':'APPLICATION_NUMBER','type':'esriFieldTypeString','actualType':'nvarchar','alias':'APPLICATION_NUMBER','sqlType':'sqlTypeNVarchar','length':256,'nullable':True,'editable':True,'domain':None,'defaultValue':None},{'name':'REFERENCE_FILE_NUMBER','type':'esriFieldTypeString','actualType':'nvarchar','alias':'REFERENCE_FILE_NUMBER','sqlType':'sqlTypeNVarchar','length':256,'nullable':True,'editable':True,'domain':None,'defaultValue':None},{'name':'OBJECTID','type':'esriFieldTypeOID','alias':'OBJECTID','sqlType':'sqlTypeInteger','nullable':False,'editable':False,'domain':None,'defaultValue':None}]}]}\n",
    "dev_flc.manager.add_to_definition(new_layer)"
   ]
  },
  {
   "cell_type": "code",
   "execution_count": null,
   "metadata": {},
   "outputs": [],
   "source": [
    "# Turn off editing and enable sanitizing invalid content\n",
    "# Reference: https://developers.arcgis.com/python/api-reference/arcgis.features.managers/#arcgis.features.managers.FeatureLayerCollectionManager.update_definition\n",
    "# Reference: https://developers.arcgis.com/rest/services-reference/enterprise/update-definition-feature-service-.htm\n",
    "dev_flc.manager.update_definition({\"capabilities\": \"Query\", \"xssPreventionInfo\": {\"xssInputRule\": \"sanitizeInvalid\"}})"
   ]
  },
  {
   "cell_type": "markdown",
   "metadata": {},
   "source": [
    "#### Regional Municipal Boundary"
   ]
  },
  {
   "cell_type": "code",
   "execution_count": null,
   "metadata": {},
   "outputs": [],
   "source": [
    "# Add data to the Portal\n",
    "# Reference: https://developers.arcgis.com/python/api-reference/arcgis.gis.toc.html#arcgis.gis.ContentManager.add\n",
    "city_prop = {\n",
    "    \"type\": \"Shapefile\", \n",
    "    \"title\": \"Regional Municipal Boundary\", \n",
    "    \"snippet\": \"Regional Municipal Boundary of the City of Toronto\", \n",
    "    \"description\": \"This data is a GIS file that outlines visually the geographical administrative boundary of the City of Toronto. This dataset is used for creating maps and map applications, as well as for operational use within the City of Toronto. The original dataset can be downloaded from the City of Toronto Open Data Portal https://open.toronto.ca/dataset/regional-municipal-boundary/.\", \n",
    "    \"licenseInfo\": \"Open Government Licence https://www.toronto.ca/city-government/data-research-maps/open-data/open-data-licence/\", \n",
    "    \"accessInformation\": \"City of Toronto\",\n",
    "    \"tags\": \"boundary, city, toronto\"\n",
    "}\n",
    "city_source = \"https://ckan0.cf.opendata.inter.prod-toronto.ca/dataset/841fb820-46d0-46ac-8dcb-d20f27e57bcc/resource/41bf97f0-da1a-46a9-ac25-5ce0078d6760/download/toronto-boundary-wgs84.zip\"\n",
    "city_shp = gis.content.add(item_properties = city_prop, data = city_source, folder = folder)\n",
    "display(city_shp)"
   ]
  },
  {
   "cell_type": "code",
   "execution_count": null,
   "metadata": {},
   "outputs": [],
   "source": [
    "# Publish hosted feature layer\n",
    "# Reference: https://developers.arcgis.com/python/api-reference/arcgis.gis.toc.html#arcgis.gis.Item.publish\n",
    "city_item = city_shp.publish(publish_parameters={\"name\": \"RegionalMunicipalBoundary\"})\n",
    "display(city_item)"
   ]
  },
  {
   "cell_type": "code",
   "execution_count": null,
   "metadata": {},
   "outputs": [],
   "source": [
    "# Update item properties\n",
    "# Reference: https://developers.arcgis.com/python/api-reference/arcgis.gis.toc.html#arcgis.gis.Item.update\n",
    "city_item.update(item_properties = city_prop)"
   ]
  },
  {
   "cell_type": "code",
   "execution_count": null,
   "metadata": {},
   "outputs": [],
   "source": [
    "# Turn off editing\n",
    "# Reference: https://developers.arcgis.com/python/api-reference/arcgis.features.managers/#arcgis.features.managers.FeatureLayerCollectionManager.fromitem\n",
    "# Reference: https://developers.arcgis.com/python/api-reference/arcgis.features.managers/#arcgis.features.managers.FeatureLayerCollectionManager.update_definition\n",
    "# Reference: https://developers.arcgis.com/rest/services-reference/enterprise/update-definition-feature-service-.htm\n",
    "city_flc = FeatureLayerCollection.fromitem(city_item)\n",
    "city_flc.manager.update_definition({\"capabilities\": \"Query\"})"
   ]
  },
  {
   "cell_type": "code",
   "execution_count": null,
   "metadata": {},
   "outputs": [],
   "source": [
    "# Update layer name and correct visibility range\n",
    "# Reference: https://developers.arcgis.com/python/api-reference/arcgis.features.managers/#arcgis.features.managers.FeatureLayerManager.update_definition\n",
    "city_flayer = city_item.layers[0]\n",
    "city_flayer.manager.update_definition({\"name\": \"Regional Municipal Boundary\", \"minScale\": 0, \"maxScale\": 0})"
   ]
  },
  {
   "cell_type": "markdown",
   "metadata": {},
   "source": [
    "### 3. Sanitize Problematic Data"
   ]
  },
  {
   "cell_type": "markdown",
   "metadata": {},
   "source": [
    "#### Invalid X and Y Coordinates"
   ]
  },
  {
   "cell_type": "code",
   "execution_count": null,
   "metadata": {},
   "outputs": [],
   "source": [
    "# Obtain development applications with invalid X and Y coordinates\n",
    "# Reference: https://developers.arcgis.com/python/api-reference/arcgis.features.toc.html#arcgis.features.FeatureLayer.query\n",
    "dev_invalid_xy = dev_tlayer.query(where = \"X < 290000 OR X > 340000 OR Y < 4825000 OR Y > 4860000\")"
   ]
  },
  {
   "cell_type": "code",
   "execution_count": null,
   "metadata": {},
   "outputs": [],
   "source": [
    "# Set invalid X and Y coordinates to null\n",
    "# Reference: https://developers.arcgis.com/python/api-reference/arcgis.features.toc.html#arcgis.features.FeatureLayer.edit_features\n",
    "for feature in dev_invalid_xy:\n",
    "    try:\n",
    "        feature.attributes['X'] = None\n",
    "        feature.attributes['Y'] = None\n",
    "        dev_tlayer.edit_features(updates = dev_invalid_xy)\n",
    "    except Exception as e:\n",
    "        print(e)"
   ]
  },
  {
   "cell_type": "markdown",
   "metadata": {},
   "source": [
    "#### Invalid Dates"
   ]
  },
  {
   "cell_type": "code",
   "execution_count": null,
   "metadata": {},
   "outputs": [],
   "source": [
    "# Obtain development applications with invalid dates\n",
    "# Reference: https://developers.arcgis.com/python/api-reference/arcgis.features.toc.html#arcgis.features.FeatureLayer.query\n",
    "dev_invalid_date_submitted = dev_tlayer.query(where = \"DATE_SUBMITTED < '2000-01-01' OR DATE_SUBMITTED > '2200-01-01'\")\n",
    "dev_invalid_hearing_date = dev_tlayer.query(where = \"HEARING_DATE < '2000-01-01' OR HEARING_DATE > '2200-01-01'\")"
   ]
  },
  {
   "cell_type": "code",
   "execution_count": null,
   "metadata": {},
   "outputs": [],
   "source": [
    "# Set invalid dates to null\n",
    "# Reference: https://developers.arcgis.com/python/api-reference/arcgis.features.toc.html#arcgis.features.FeatureLayer.edit_features\n",
    "for feature in dev_invalid_date_submitted:\n",
    "    try:\n",
    "        feature.attributes['DATE_SUBMITTED'] = None\n",
    "        dev_tlayer.edit_features(updates = dev_invalid_date_submitted)\n",
    "    except Exception as e:\n",
    "        print(e)\n",
    "for feature in dev_invalid_hearing_date:\n",
    "    try:\n",
    "        feature.attributes['HEARING_DATE'] = None\n",
    "        dev_tlayer.edit_features(updates = dev_invalid_hearing_date)\n",
    "    except Exception as e:\n",
    "        print(e)"
   ]
  },
  {
   "cell_type": "markdown",
   "metadata": {},
   "source": [
    "### 4. Add Features to Hosted Feature Layer"
   ]
  },
  {
   "cell_type": "code",
   "execution_count": null,
   "metadata": {},
   "outputs": [],
   "source": [
    "from arcgis.features import GeoAccessor"
   ]
  },
  {
   "cell_type": "code",
   "execution_count": null,
   "metadata": {
    "scrolled": true
   },
   "outputs": [],
   "source": [
    "# Obtain Spatially Enabled DataFrame (SeDF) of the development applications\n",
    "# Reference: https://developers.arcgis.com/python/api-reference/arcgis.features.toc.html#arcgis.features.FeatureLayer.query\n",
    "# Reference: https://developers.arcgis.com/python/api-reference/arcgis.features.toc.html#arcgis.features.GeoAccessor.from_xy\n",
    "dev = dev_tlayer.query()\n",
    "dev_df = dev.sdf\n",
    "dev_x = \"X\"\n",
    "dev_y = \"Y\"\n",
    "dev_wkid = 7991\n",
    "dev_sdf = GeoAccessor.from_xy(df = dev_df, x_column = dev_x, y_column = dev_y, sr = dev_wkid)"
   ]
  },
  {
   "cell_type": "code",
   "execution_count": null,
   "metadata": {},
   "outputs": [],
   "source": [
    "# Add features using the Spatially Enabled DataFrame\n",
    "# Slicing is necessary as the server may not be able to handle large dataset\n",
    "# Reference: https://developers.arcgis.com/python/api-reference/arcgis.features.toc.html#arcgis.features.GeoAccessor.to_featureset\n",
    "# Reference: https://developers.arcgis.com/python/api-reference/arcgis.features.toc.html#arcgis.features.FeatureLayer.edit_features\n",
    "dev_flayer = dev_item.layers[0]\n",
    "i = 0\n",
    "batch_size = 250\n",
    "while i <= len(dev_sdf):\n",
    "    try:\n",
    "        dev_fs = dev_sdf.iloc[i:i + batch_size].spatial.to_featureset()\n",
    "        dev_flayer.edit_features(adds = dev_fs)\n",
    "        i += batch_size\n",
    "    except:\n",
    "        try:\n",
    "            dev_fs = dev_sdf.iloc[i:i + 1].spatial.to_featureset()\n",
    "            dev_flayer.edit_features(adds = dev_fs)\n",
    "            i += 1\n",
    "        except Exception as e:\n",
    "            print(e)\n",
    "            print(f\"Application {dev_sdf.iloc[i].APPLICATION_NUMBER} cannot not be visualized.\")\n",
    "            i += 1"
   ]
  },
  {
   "cell_type": "markdown",
   "metadata": {},
   "source": [
    "### 5. Publish Web Maps"
   ]
  },
  {
   "cell_type": "code",
   "execution_count": null,
   "metadata": {},
   "outputs": [],
   "source": [
    "from arcgis.mapping import WebMap\n",
    "from arcgis.features import FeatureLayer"
   ]
  },
  {
   "cell_type": "markdown",
   "metadata": {},
   "source": [
    "#### Main Map"
   ]
  },
  {
   "cell_type": "code",
   "execution_count": null,
   "metadata": {},
   "outputs": [],
   "source": [
    "# Create web map object\n",
    "# Reference: https://developers.arcgis.com/python/api-reference/arcgis.mapping.toc.html#arcgis.mapping.WebMap\n",
    "main_map = WebMap()"
   ]
  },
  {
   "cell_type": "code",
   "execution_count": null,
   "metadata": {},
   "outputs": [],
   "source": [
    "# Add layers to the map\n",
    "# Reference: https://developers.arcgis.com/python/api-reference/arcgis.mapping.toc.html#arcgis.mapping.WebMap.add_layer\n",
    "main_map.add_layer(dev_flayer)\n",
    "main_map.add_layer(city_flayer)"
   ]
  },
  {
   "cell_type": "code",
   "execution_count": null,
   "metadata": {},
   "outputs": [],
   "source": [
    "# Publish the map\n",
    "# Reference: https://developers.arcgis.com/python/api-reference/arcgis.mapping.toc.html#arcgis.mapping.WebMap.save\n",
    "main_map_prop = {\n",
    "    \"title\": \"Development Activity Tracker - City of Toronto - Main Map\",\n",
    "    \"snippet\": \"Main Map for the Development Activity Tracker of the City of Toronto\", \n",
    "    \"description\": \"This map lists all currently active (open) and inactive (closed) Community Planning applications, Committee of Adjustment applications and Toronto Local Appeal Body appeals received by the City between January 1st 2008 till present. The map is AODA (Accessibility for Ontarians with Disabilities Act) compliant. The original dataset can be downloaded from the City of Toronto Open Data Portal https://open.toronto.ca/dataset/development-applications/.\", \n",
    "    \"licenseInfo\": \"Open Government Licence https://www.toronto.ca/city-government/data-research-maps/open-data/open-data-licence/\", \n",
    "    \"accessInformation\": \"City of Toronto\",\n",
    "    \"tags\": \"development, planning, toronto\"\n",
    "}\n",
    "main_map_item = main_map.save(item_properties = main_map_prop, folder = folder)\n",
    "display(main_map_item)"
   ]
  },
  {
   "cell_type": "markdown",
   "metadata": {},
   "source": [
    "#### Heat Map"
   ]
  },
  {
   "cell_type": "code",
   "execution_count": null,
   "metadata": {},
   "outputs": [],
   "source": [
    "# Create web map object\n",
    "# Reference: https://developers.arcgis.com/python/api-reference/arcgis.mapping.toc.html#arcgis.mapping.WebMap\n",
    "heat_map = WebMap()"
   ]
  },
  {
   "cell_type": "code",
   "execution_count": null,
   "metadata": {},
   "outputs": [],
   "source": [
    "# Add layers to the map\n",
    "# Reference: https://developers.arcgis.com/python/api-reference/arcgis.mapping.toc.html#arcgis.mapping.WebMap.add_layer\n",
    "heat_map.add_layer(dev_flayer)\n",
    "heat_map.add_layer(city_flayer)"
   ]
  },
  {
   "cell_type": "code",
   "execution_count": null,
   "metadata": {},
   "outputs": [],
   "source": [
    "# Publish the map\n",
    "# Reference: https://developers.arcgis.com/python/api-reference/arcgis.mapping.toc.html#arcgis.mapping.WebMap.save\n",
    "heat_map_prop = {\n",
    "    \"title\": \"Development Activity Tracker - City of Toronto - Heat Map\",\n",
    "    \"snippet\": \"Heat Map for the Development Activity Tracker of the City of Toronto\", \n",
    "    \"description\": \"This heat map visualizes all currently active (open) and inactive (closed) Community Planning applications, Committee of Adjustment applications and Toronto Local Appeal Body appeals received by the City between January 1st 2008 till present. The map is AODA (Accessibility for Ontarians with Disabilities Act) compliant. The original dataset can be downloaded from the City of Toronto Open Data Portal https://open.toronto.ca/dataset/development-applications/.\", \n",
    "    \"licenseInfo\": \"Open Government Licence https://www.toronto.ca/city-government/data-research-maps/open-data/open-data-licence/\", \n",
    "    \"accessInformation\": \"City of Toronto\",\n",
    "    \"tags\": \"boundary, city, toronto\"\n",
    "}\n",
    "heat_map_item = heat_map.save(item_properties = heat_map_prop, folder = folder)\n",
    "display(heat_map_item)"
   ]
  },
  {
   "cell_type": "markdown",
   "metadata": {},
   "source": [
    "#### Historic Aerial Imagery"
   ]
  },
  {
   "cell_type": "code",
   "execution_count": null,
   "metadata": {},
   "outputs": [],
   "source": [
    "# Create web map object\n",
    "# Reference: https://developers.arcgis.com/python/api-reference/arcgis.mapping.toc.html#arcgis.mapping.WebMap\n",
    "hist_map = WebMap()"
   ]
  },
  {
   "cell_type": "code",
   "execution_count": null,
   "metadata": {},
   "outputs": [],
   "source": [
    "# Add layers to the map\n",
    "# Reference: https://developers.arcgis.com/python/api-reference/arcgis.features.toc.html#arcgis.features.FeatureLayer\n",
    "# Reference: https://developers.arcgis.com/python/api-reference/arcgis.mapping.toc.html#arcgis.mapping.WebMap.add_layer\n",
    "hist_source = \"https://gis.toronto.ca/arcgis/rest/services/basemap/cot_historic_aerial_1939/MapServer/0\"\n",
    "hist_flayer = FeatureLayer(url = hist_source)\n",
    "hist_map.add_layer(hist_flayer)\n",
    "hist_map.add_layer(city_flayer)"
   ]
  },
  {
   "cell_type": "code",
   "execution_count": null,
   "metadata": {},
   "outputs": [],
   "source": [
    "# Publish the map\n",
    "# Reference: https://developers.arcgis.com/python/api-reference/arcgis.mapping.toc.html#arcgis.mapping.WebMap.save\n",
    "hist_map_prop = {\n",
    "    \"title\": \"Historic Aerial Imagery - 1939\",\n",
    "    \"snippet\": \"Historic Aerial Imagery of the City of Toronto (1939)\", \n",
    "    \"description\": \"These datasets are all sourced from scans of the original black and white aerial photography. These images have not gone through the same rigorous process that current aerial imagery goes through to create a seamless orthorectified image, corrected for the changes in elevation across the City. Due to this, the spatial accuracy of these datasets varies across the City. These datasets intended use is to show land use changes over time and other similar tasks. It is not suitable for sub-metre level accuracy feature collection. The original dataset can be downloaded from the City of Toronto Open Data Portal https://open.toronto.ca/dataset/web-map-services/.\", \n",
    "    \"licenseInfo\": \"Open Government Licence https://www.toronto.ca/city-government/data-research-maps/open-data/open-data-licence/\", \n",
    "    \"accessInformation\": \"City of Toronto\",\n",
    "    \"tags\": \"history, imagery, toronto\"\n",
    "}\n",
    "hist_map_item = hist_map.save(item_properties = hist_map_prop, folder = folder)\n",
    "display(hist_map_item)"
   ]
  },
  {
   "cell_type": "markdown",
   "metadata": {},
   "source": [
    "### 6. Configure Web Maps"
   ]
  },
  {
   "cell_type": "code",
   "execution_count": null,
   "metadata": {},
   "outputs": [],
   "source": [
    "import json"
   ]
  },
  {
   "cell_type": "code",
   "execution_count": null,
   "metadata": {},
   "outputs": [],
   "source": [
    "# Obtain the item id and the url of the hosted feature layers\n",
    "dev_itemid = dev_item.id\n",
    "city_itemid = city_item.id\n",
    "dev_url = dev_flayer.url\n",
    "city_url = city_flayer.url"
   ]
  },
  {
   "cell_type": "markdown",
   "metadata": {},
   "source": [
    "#### Main Map"
   ]
  },
  {
   "cell_type": "code",
   "execution_count": null,
   "metadata": {},
   "outputs": [],
   "source": [
    "# Obtain the map layer ids\n",
    "main_map_dev_id = main_map.layers[0].id\n",
    "main_map_city_id = main_map.layers[1].id"
   ]
  },
  {
   "cell_type": "code",
   "execution_count": null,
   "metadata": {},
   "outputs": [],
   "source": [
    "# Add JSON string\n",
    "main_map_json = r'''{\"operationalLayers\":[{\"id\":\"\",\"disablePopup\":true,\"title\":\"Regional Municipal Boundary\",\"url\":\"\",\"itemId\":\"\",\"layerType\":\"ArcGISFeatureLayer\",\"layerDefinition\":{\"definitionExpression\":null,\"featureReduction\":null,\"drawingInfo\":{\"renderer\":{\"type\":\"simple\",\"symbol\":{\"type\":\"esriSFS\",\"color\":null,\"outline\":{\"type\":\"esriSLS\",\"color\":[128,128,128,255],\"width\":1.5,\"style\":\"esriSLSSolid\"},\"style\":\"esriSFSSolid\"}}}},\"showLabels\":false,\"popupInfo\":{\"popupElements\":[{\"type\":\"fields\"},{\"type\":\"attachments\",\"displayType\":\"auto\"}],\"showAttachments\":true,\"fieldInfos\":[{\"fieldName\":\"FID\",\"label\":\"FID\",\"visible\":false},{\"fieldName\":\"AREA_ID\",\"format\":{\"digitSeparator\":false,\"places\":0},\"isEditable\":true,\"label\":\"Area ID\",\"visible\":true},{\"fieldName\":\"AREA_NAME\",\"isEditable\":true,\"label\":\"Area Name\",\"visible\":true},{\"fieldName\":\"OBJECTID\",\"format\":{\"digitSeparator\":false,\"places\":0},\"isEditable\":true,\"label\":\"Object ID\",\"visible\":false},{\"fieldName\":\"Shape__Area\",\"format\":{\"digitSeparator\":true,\"places\":2},\"label\":\"Shape Area\",\"visible\":false},{\"fieldName\":\"Shape__Length\",\"format\":{\"digitSeparator\":true,\"places\":2},\"label\":\"Shape Length\",\"visible\":false}],\"title\":\"Regional Municipal Boundary: {AREA_NAME}\"}},{\"id\":\"\",\"title\":\"Development Applications\",\"url\":\"\",\"visibility\":true,\"itemId\":\"\",\"layerType\":\"ArcGISFeatureLayer\",\"timeAnimation\":false,\"layerDefinition\":{\"definitionExpression\":null,\"featureReduction\":{\"type\":\"cluster\",\"clusterRadius\":90,\"clusterMinSize\":16.5,\"clusterMaxSize\":53,\"disablePopup\":false,\"popupInfo\":{\"popupElements\":[{\"type\":\"text\",\"text\":\"<p>This cluster represents <strong>{cluster_count}</strong> development activities.<br /><br />The most common application type in this area is <strong>{expression/cluster_type_APPLICATION_TYPE}</strong>.</p>\"}],\"description\":\"<p>This cluster represents <strong>{cluster_count}</strong> development activities.<br /><br />The most common application type in this area is <strong>{expression/cluster_type_APPLICATION_TYPE}</strong>.</p>\",\"expressionInfos\":[{\"name\":\"cluster_type_APPLICATION_TYPE\",\"title\":\"Predominant Application Type\",\"expression\":\"\\n  var uvInfos = [{\\n        \\\"value\\\": \\\"MV\\\",\\n        \\\"label\\\": \\\"Minor Variance\\\"\\n      }, {\\n        \\\"value\\\": \\\"OZ\\\",\\n        \\\"label\\\": \\\"Official Plan/Rezoning\\\"\\n      }, {\\n        \\\"value\\\": \\\"SA\\\",\\n        \\\"label\\\": \\\"Site Plan Application\\\"\\n      }, {\\n        \\\"value\\\": \\\"CO\\\",\\n        \\\"label\\\": \\\"Consent\\\"\\n      }, {\\n        \\\"value\\\": \\\"CD\\\",\\n        \\\"label\\\": \\\"Condominium\\\"\\n      }, {\\n        \\\"value\\\": \\\"TLAB\\\",\\n        \\\"label\\\": \\\"TLAB\\\"\\n      }, {\\n        \\\"value\\\": \\\"SB\\\",\\n        \\\"label\\\": \\\"Sub Division\\\"\\n      }, {\\n        \\\"value\\\": \\\"PL\\\",\\n        \\\"label\\\": \\\"Part Lot\\\"\\n      }];\\n  var predominantType = Text($feature[\\\"cluster_type_APPLICATION_TYPE\\\"]);\\n  var label = \\\"None\\\";\\n\\n  for (var i = 0; i < Count(uvInfos); i++) {\\n    if (uvInfos[i].value == predominantType) {\\n      label = uvInfos[i].label;\\n      break;\\n    }\\n  }\\n\\n  return label;\\n  \",\"returnType\":\"string\"}],\"fieldInfos\":[{\"fieldName\":\"cluster_count\",\"format\":{\"digitSeparator\":true,\"places\":0},\"label\":\"Number of Features\",\"visible\":true},{\"fieldName\":\"expression/cluster_type_APPLICATION_TYPE\",\"visible\":true},{\"fieldName\":\"cluster_avg_DATE_SUBMITTED\",\"format\":{\"digitSeparator\":true,\"places\":2},\"label\":\"Average Date Submitted\",\"visible\":true}],\"title\":\"Cluster Summary\"},\"drawingInfo\":{\"labelingInfo\":[{\"deconflictionStrategy\":\"none\",\"labelExpressionInfo\":{\"expression\":\"\\n  $feature[\\\"cluster_count\\\"];\\n  var value = $feature[\\\"cluster_count\\\"];\\n  var num = Count(Text(Round(value)));\\n  var label = When(\\n    num < 4, Text(value, \\\"#.#\\\"),\\n    num == 4, Text(value / Pow(10, 3), \\\"#.0k\\\"),\\n    num <= 6, Text(value / Pow(10, 3), \\\"#k\\\"),\\n    num == 7, Text(value / Pow(10, 6), \\\"#.0m\\\"),\\n    num > 7, Text(value / Pow(10, 6), \\\"#m\\\"),\\n    Text(value, \\\"#,###\\\")\\n  );\\n  return label;\\n  \"},\"labelPlacement\":\"esriServerPointLabelPlacementCenterCenter\",\"repeatLabel\":true,\"symbol\":{\"type\":\"esriTS\",\"color\":[240,240,240,255],\"font\":{\"family\":\"Noto Sans\",\"size\":9,\"weight\":\"bold\"},\"horizontalAlignment\":\"center\",\"kerning\":true,\"haloColor\":[80,80,80,255],\"haloSize\":0.75,\"rotated\":false,\"text\":\"\",\"verticalAlignment\":\"baseline\",\"xoffset\":0,\"yoffset\":0,\"angle\":0}}]},\"showLabels\":true},\"drawingInfo\":{\"renderer\":{\"authoringInfo\":{\"visualVariables\":[{\"maxSliderValue\":1654214400000,\"minSliderValue\":1199232000000,\"type\":\"transparencyInfo\"}]},\"type\":\"uniqueValue\",\"visualVariables\":[{\"type\":\"sizeInfo\",\"valueExpression\":\"$view.scale\",\"stops\":[{\"size\":7.5,\"value\":2256.994353},{\"size\":6,\"value\":18055.954822},{\"size\":3,\"value\":144447.638572},{\"size\":1.5,\"value\":1155581.108577}]},{\"type\":\"transparencyInfo\",\"field\":\"DATE_SUBMITTED\",\"stops\":[{\"transparency\":35,\"value\":1199232000000},{\"transparency\":0,\"value\":1652152761000}]}],\"field1\":\"APPLICATION_TYPE\",\"uniqueValueInfos\":[{\"label\":\"Official Plan/Rezoning\",\"symbol\":{\"type\":\"esriSMS\",\"color\":[204,121,167,255],\"angle\":0,\"xoffset\":0,\"yoffset\":0,\"size\":6,\"style\":\"esriSMSCircle\",\"outline\":{\"type\":\"esriSLS\",\"color\":[153,153,153,64],\"width\":0.75,\"style\":\"esriSLSSolid\"}},\"value\":\"OZ\"},{\"label\":\"Sub Division\",\"symbol\":{\"type\":\"esriSMS\",\"color\":[0,114,178,255],\"angle\":0,\"xoffset\":0,\"yoffset\":0,\"size\":6,\"style\":\"esriSMSCircle\",\"outline\":{\"type\":\"esriSLS\",\"color\":[153,153,153,64],\"width\":0.75,\"style\":\"esriSLSSolid\"}},\"value\":\"SB\"},{\"label\":\"Condominium\",\"symbol\":{\"type\":\"esriSMS\",\"color\":[0,158,115,255],\"angle\":0,\"xoffset\":0,\"yoffset\":0,\"size\":6,\"style\":\"esriSMSCircle\",\"outline\":{\"type\":\"esriSLS\",\"color\":[153,153,153,64],\"width\":0.75,\"style\":\"esriSLSSolid\"}},\"value\":\"CD\"},{\"label\":\"Site Plan Application\",\"symbol\":{\"type\":\"esriSMS\",\"color\":[86,180,233,255],\"angle\":0,\"xoffset\":0,\"yoffset\":0,\"size\":6,\"style\":\"esriSMSCircle\",\"outline\":{\"type\":\"esriSLS\",\"color\":[153,153,153,64],\"width\":0.75,\"style\":\"esriSLSSolid\"}},\"value\":\"SA\"},{\"label\":\"Part Lot\",\"symbol\":{\"type\":\"esriSMS\",\"color\":[252,159,0,255],\"angle\":0,\"xoffset\":0,\"yoffset\":0,\"size\":6,\"style\":\"esriSMSCircle\",\"outline\":{\"type\":\"esriSLS\",\"color\":[153,153,153,64],\"width\":0.75,\"style\":\"esriSLSSolid\"}},\"value\":\"PL\"},{\"label\":\"Consent\",\"symbol\":{\"type\":\"esriSMS\",\"color\":[240,228,66,255],\"angle\":0,\"xoffset\":0,\"yoffset\":0,\"size\":6,\"style\":\"esriSMSCircle\",\"outline\":{\"type\":\"esriSLS\",\"color\":[153,153,153,64],\"width\":0.75,\"style\":\"esriSLSSolid\"}},\"value\":\"CO\"},{\"label\":\"Minor Variance\",\"symbol\":{\"type\":\"esriSMS\",\"color\":[213,94,0,255],\"angle\":0,\"xoffset\":0,\"yoffset\":0,\"size\":6,\"style\":\"esriSMSCircle\",\"outline\":{\"type\":\"esriSLS\",\"color\":[153,153,153,64],\"width\":0.75,\"style\":\"esriSLSSolid\"}},\"value\":\"MV\"},{\"label\":\"TLAB\",\"symbol\":{\"type\":\"esriSMS\",\"color\":[0,0,12,255],\"angle\":0,\"xoffset\":0,\"yoffset\":0,\"size\":6,\"style\":\"esriSMSCircle\",\"outline\":{\"type\":\"esriSLS\",\"color\":[153,153,153,64],\"width\":0.75,\"style\":\"esriSLSSolid\"}},\"value\":\"TLAB\"}]}}},\"showLabels\":false,\"popupInfo\":{\"popupElements\":[{\"type\":\"text\",\"text\":\"<p><span style='font-size:14px;'><strong>Application Type:</strong> {expression/expr0}</span></p><p><span style='font-size:14px;'><strong>Reference File Number:</strong> {expression/expr1}&nbsp;</span></p><p><span style='font-size:14px;'><strong>Submission Date</strong>: {DATE_SUBMITTED}&nbsp;</span></p><p><span style='font-size:14px;'><strong>Hearing Date:</strong> {expression/expr2}&nbsp;</span></p><p><span style='font-size:14px;'><strong>Address</strong>: {STREET_NUM} {STREET_NAME} {STREET_TYPE} {STREET_DIRECTION}, TORONTO, ON&nbsp;</span></p><p><span style='font-size:14px;'><strong>Description</strong>: {expression/expr3}&nbsp;</span></p>\"}],\"description\":\"<p><span style='font-size:14px;'><strong>Application Type:</strong> {expression/expr0}</span></p><p><span style='font-size:14px;'><strong>Reference File Number:</strong> {expression/expr1}&nbsp;</span></p><p><span style='font-size:14px;'><strong>Submission Date</strong>: {DATE_SUBMITTED}&nbsp;</span></p><p><span style='font-size:14px;'><strong>Hearing Date:</strong> {expression/expr2}&nbsp;</span></p><p><span style='font-size:14px;'><strong>Address</strong>: {STREET_NUM} {STREET_NAME} {STREET_TYPE} {STREET_DIRECTION}, TORONTO, ON&nbsp;</span></p><p><span style='font-size:14px;'><strong>Description</strong>: {expression/expr3}&nbsp;</span></p>\",\"expressionInfos\":[{\"name\":\"expr0\",\"title\":\"Application Type\",\"expression\":\"if ($feature[\\\"APPLICATION_TYPE\\\"] == 'CD') {\\r\\nreturn 'Condominium'\\r\\n}\\r\\nelse if ($feature[\\\"APPLICATION_TYPE\\\"] == 'OZ') {\\r\\nreturn 'Official Plan/Rezoning'\\r\\n}\\r\\nelse if ($feature[\\\"APPLICATION_TYPE\\\"] == 'PL') {\\r\\nreturn 'Part Lot'\\r\\n}\\r\\nelse if ($feature[\\\"APPLICATION_TYPE\\\"] == 'SA') {\\r\\nreturn 'Site Plan Application'\\r\\n}\\r\\nelse if ($feature[\\\"APPLICATION_TYPE\\\"] == 'SB') {\\r\\nreturn 'Sub Division'\\r\\n}\\r\\nelse if ($feature[\\\"APPLICATION_TYPE\\\"] == 'CO') {\\r\\nreturn 'Consent'\\r\\n}\\r\\nelse if ($feature[\\\"APPLICATION_TYPE\\\"] == 'MV') {\\r\\nreturn 'Minor Variance'\\r\\n}\\r\\nelse if ($feature[\\\"APPLICATION_TYPE\\\"] == 'TLAB') {\\r\\nreturn 'Toronto Local Appeal Body'\\r\\n}\",\"returnType\":\"string\"},{\"name\":\"expr1\",\"title\":\"Reference File Number\",\"expression\":\"if ($feature[\\\"REFERENCE_FILE_NUMBER\\\"] == null) {\\r\\nreturn 'N/A'\\r\\n}\\r\\nelse {\\r\\nreturn $feature[\\\"REFERENCE_FILE_NUMBER\\\"]\\r\\n}\",\"returnType\":\"string\"},{\"name\":\"expr2\",\"title\":\"Hearing Date\",\"expression\":\"if ($feature[\\\"HEARING_DATE\\\"] == null) {\\r\\nreturn 'N/A'\\r\\n}\\r\\nelse {\\r\\nreturn Text($feature[\\\"HEARING_DATE\\\"], 'YYYY-MM-DD')\\r\\n}\",\"returnType\":\"string\"},{\"name\":\"expr3\",\"title\":\"Description\",\"expression\":\"if ($feature.DESCRIPTION == null) {\\r\\nreturn 'N/A'\\r\\n}\\r\\nelse {\\r\\nreturn $feature.DESCRIPTION\\r\\n}\",\"returnType\":\"string\"}],\"fieldInfos\":[{\"fieldName\":\"ObjectId\",\"label\":\"Object ID\",\"visible\":false},{\"fieldName\":\"F_id\",\"format\":{\"digitSeparator\":false,\"places\":0},\"isEditable\":true,\"label\":\"FID\",\"visible\":true},{\"fieldName\":\"APPLICATION_NUMBER\",\"isEditable\":true,\"label\":\"Application Number\",\"visible\":true},{\"fieldName\":\"APPLICATION_TYPE\",\"isEditable\":true,\"label\":\"Application Type\",\"visible\":true},{\"fieldName\":\"APPLICATION_\",\"isEditable\":true,\"label\":\"Application Number\",\"visible\":true},{\"fieldName\":\"DATE_SUBMITTED\",\"format\":{\"dateFormat\":\"shortDate\",\"digitSeparator\":false},\"isEditable\":true,\"label\":\"Date Submitted\",\"visible\":true},{\"fieldName\":\"DESCRIPTION\",\"isEditable\":true,\"label\":\"Description\",\"visible\":true},{\"fieldName\":\"HEARING_DATE\",\"format\":{\"dateFormat\":\"shortDate\",\"digitSeparator\":false},\"isEditable\":true,\"label\":\"Hearing Date\",\"visible\":true},{\"fieldName\":\"POSTAL\",\"isEditable\":true,\"label\":\"Postal Code\",\"visible\":true},{\"fieldName\":\"REFERENCE_FILE_NUMBER\",\"isEditable\":true,\"label\":\"Reference File Number\",\"visible\":true},{\"fieldName\":\"REFERENCE_FILE_\",\"isEditable\":true,\"label\":\"Reference File Number\",\"visible\":true},{\"fieldName\":\"STATUS\",\"isEditable\":true,\"label\":\"Status\",\"visible\":true},{\"fieldName\":\"STREET_DIRECTION\",\"isEditable\":true,\"label\":\"Street Direction\",\"visible\":true},{\"fieldName\":\"STREET_NAME\",\"isEditable\":true,\"label\":\"Street Name\",\"visible\":true},{\"fieldName\":\"STREET_NUM\",\"isEditable\":true,\"label\":\"Street Number\",\"visible\":true},{\"fieldName\":\"STREET_TYPE\",\"isEditable\":true,\"label\":\"Street Type\",\"visible\":true},{\"fieldName\":\"X\",\"format\":{\"digitSeparator\":false,\"places\":5},\"isEditable\":true,\"label\":\"X\",\"visible\":true},{\"fieldName\":\"Y\",\"format\":{\"digitSeparator\":false,\"places\":5},\"isEditable\":true,\"label\":\"Y\",\"visible\":true},{\"fieldName\":\"expression/expr0\",\"visible\":false},{\"fieldName\":\"expression/expr1\",\"visible\":false},{\"fieldName\":\"expression/expr2\",\"visible\":false},{\"fieldName\":\"expression/expr3\",\"visible\":false}],\"title\":\"{APPLICATION_NUMBER} - {STATUS}\"}}],\"baseMap\":{\"baseMapLayers\":[{\"id\":\"World_Hillshade_3805\",\"opacity\":1,\"title\":\"World Hillshade\",\"url\":\"https://services.arcgisonline.com/arcgis/rest/services/Elevation/World_Hillshade/MapServer\",\"visibility\":true,\"layerType\":\"ArcGISTiledMapServiceLayer\"},{\"id\":\"VectorTile_2333\",\"opacity\":1,\"title\":\"World Topographic Map\",\"visibility\":true,\"layerType\":\"VectorTileLayer\",\"styleUrl\":\"https://cdn.arcgis.com/sharing/rest/content/items/7dc6cea0b1764a1f9af2e679f642f0f5/resources/styles/root.json\"}],\"title\":\"Topographic\"},\"applicationProperties\":{\"viewing\":{\"search\":{\"disablePlaceFinder\":true,\"enabled\":true,\"hintText\":\"Enter application number\",\"layers\":[{\"field\":{\"exactMatch\":false,\"name\":\"APPLICATION_NUMBER\",\"type\":\"esriFieldTypeString\"},\"id\":\"\"}]}}},\"authoringApp\":\"ArcGISMapViewer\",\"authoringAppVersion\":\"10.1\",\"initialState\":{\"viewpoint\":{\"targetGeometry\":{\"spatialReference\":{\"latestWkid\":3857,\"wkid\":102100},\"xmin\":-8906157.73529152,\"ymin\":5387794.613013394,\"xmax\":-8766889.469756117,\"ymax\":5455135.634932544}}},\"spatialReference\":{\"latestWkid\":3857,\"wkid\":102100},\"version\":\"2.24\",\"widgets\":{}}'''"
   ]
  },
  {
   "cell_type": "code",
   "execution_count": null,
   "metadata": {},
   "outputs": [],
   "source": [
    "# Convert JSON string to dictionary\n",
    "# https://docs.python.org/3/library/json.html#json.loads\n",
    "main_map_json_dict = json.loads(main_map_json)"
   ]
  },
  {
   "cell_type": "code",
   "execution_count": null,
   "metadata": {},
   "outputs": [],
   "source": [
    "# Update dictionary\n",
    "main_map_json_dict[\"operationalLayers\"][0][\"id\"] = main_map_city_id\n",
    "main_map_json_dict[\"operationalLayers\"][1][\"id\"] = main_map_dev_id\n",
    "main_map_json_dict[\"operationalLayers\"][0][\"url\"] = city_url\n",
    "main_map_json_dict[\"operationalLayers\"][1][\"url\"] = dev_url\n",
    "main_map_json_dict[\"operationalLayers\"][0][\"itemId\"] = city_itemid\n",
    "main_map_json_dict[\"operationalLayers\"][1][\"itemId\"] = dev_itemid\n",
    "main_map_json_dict[\"applicationProperties\"][\"viewing\"][\"search\"][\"layers\"][0][\"id\"] = main_map_dev_id"
   ]
  },
  {
   "cell_type": "code",
   "execution_count": null,
   "metadata": {},
   "outputs": [],
   "source": [
    "# Convert dictionary back to JSON string\n",
    "# Reference: https://docs.python.org/3/library/json.html#json.dumps\n",
    "main_map_json = json.dumps(main_map_json_dict)"
   ]
  },
  {
   "cell_type": "code",
   "execution_count": null,
   "metadata": {},
   "outputs": [],
   "source": [
    "# Update map configurations\n",
    "# Reference: https://developers.arcgis.com/python/api-reference/arcgis.gis.toc.html#arcgis.gis.Item.update\n",
    "main_map_prop = {\"text\": main_map_json}\n",
    "main_map_item.update(item_properties = main_map_prop)"
   ]
  },
  {
   "cell_type": "markdown",
   "metadata": {},
   "source": [
    "#### Heat Map"
   ]
  },
  {
   "cell_type": "code",
   "execution_count": null,
   "metadata": {},
   "outputs": [],
   "source": [
    "# Obtain the map layer ids\n",
    "heat_map_dev_id = heat_map.layers[0].id\n",
    "heat_map_city_id = heat_map.layers[1].id"
   ]
  },
  {
   "cell_type": "code",
   "execution_count": null,
   "metadata": {},
   "outputs": [],
   "source": [
    "# Add JSON string\n",
    "heat_map_json = r'''{\"operationalLayers\":[{\"id\":\"\",\"disablePopup\":true,\"title\":\"Regional Municipal Boundary\",\"url\":\"\",\"itemId\":\"\",\"layerType\":\"ArcGISFeatureLayer\",\"layerDefinition\":{\"definitionExpression\":null,\"featureReduction\":null,\"drawingInfo\":{\"renderer\":{\"type\":\"simple\",\"symbol\":{\"type\":\"esriSFS\",\"color\":null,\"outline\":{\"type\":\"esriSLS\",\"color\":[128,128,128,255],\"width\":1.5,\"style\":\"esriSLSSolid\"},\"style\":\"esriSFSSolid\"}}}},\"showLabels\":false,\"popupInfo\":{\"popupElements\":[{\"type\":\"fields\"},{\"type\":\"attachments\",\"displayType\":\"auto\"}],\"showAttachments\":true,\"fieldInfos\":[{\"fieldName\":\"FID\",\"label\":\"FID\",\"visible\":false},{\"fieldName\":\"AREA_ID\",\"format\":{\"digitSeparator\":false,\"places\":0},\"isEditable\":true,\"label\":\"Area ID\",\"visible\":true},{\"fieldName\":\"AREA_NAME\",\"isEditable\":true,\"label\":\"Area Name\",\"visible\":true},{\"fieldName\":\"OBJECTID\",\"format\":{\"digitSeparator\":false,\"places\":0},\"isEditable\":true,\"label\":\"Object ID\",\"visible\":false},{\"fieldName\":\"Shape__Area\",\"format\":{\"digitSeparator\":true,\"places\":2},\"label\":\"Shape Area\",\"visible\":false},{\"fieldName\":\"Shape__Length\",\"format\":{\"digitSeparator\":true,\"places\":2},\"label\":\"Shape Length\",\"visible\":false}],\"title\":\"Regional Municipal Boundary: {AREA_NAME}\"}},{\"id\":\"\",\"opacity\":0.7,\"disablePopup\":true,\"title\":\"Development Applications\",\"url\":\"\",\"itemId\":\"\",\"layerType\":\"ArcGISFeatureLayer\",\"timeAnimation\":false,\"layerDefinition\":{\"definitionExpression\":null,\"drawingInfo\":{\"renderer\":{\"type\":\"heatmap\",\"blurRadius\":10,\"colorStops\":[{\"color\":[115,0,115,0],\"ratio\":0},{\"color\":[115,0,115,0],\"ratio\":0.01},{\"color\":[115,0,115,255],\"ratio\":0.01},{\"color\":[115,0,115,255],\"ratio\":0.01},{\"color\":[130,0,130,255],\"ratio\":0.0925},{\"color\":[145,0,145,255],\"ratio\":0.17500000000000002},{\"color\":[160,0,160,255],\"ratio\":0.2575},{\"color\":[175,0,175,255],\"ratio\":0.34},{\"color\":[195,0,195,255],\"ratio\":0.42250000000000004},{\"color\":[215,0,215,255],\"ratio\":0.505},{\"color\":[235,0,235,255],\"ratio\":0.5875},{\"color\":[255,0,255,255],\"ratio\":0.67},{\"color\":[255,88,160,255],\"ratio\":0.7525000000000001},{\"color\":[255,137,107,255],\"ratio\":0.8350000000000001},{\"color\":[255,185,53,255],\"ratio\":0.9175000000000001},{\"color\":[255,234,0,255],\"ratio\":1}],\"maxPixelIntensity\":2069.031820603889,\"minPixelIntensity\":0.0003977359270145481}}},\"popupInfo\":{\"popupElements\":[{\"type\":\"fields\"},{\"type\":\"attachments\",\"displayType\":\"auto\"}],\"showAttachments\":true,\"fieldInfos\":[{\"fieldName\":\"ObjectId\",\"label\":\"Object Id\",\"visible\":false},{\"fieldName\":\"F_id\",\"format\":{\"digitSeparator\":false,\"places\":0},\"isEditable\":true,\"label\":\"FID\",\"visible\":true},{\"fieldName\":\"APPLICATION_NUMBER\",\"isEditable\":true,\"label\":\"Application Number\",\"visible\":true},{\"fieldName\":\"APPLICATION_TYPE\",\"isEditable\":true,\"label\":\"Application Type\",\"visible\":true},{\"fieldName\":\"APPLICATION_\",\"isEditable\":true,\"label\":\"Application Number\",\"visible\":true},{\"fieldName\":\"DATE_SUBMITTED\",\"format\":{\"dateFormat\":\"shortDate\",\"digitSeparator\":false},\"isEditable\":true,\"label\":\"Date Submitted\",\"visible\":true},{\"fieldName\":\"DESCRIPTION\",\"isEditable\":true,\"label\":\"Description\",\"visible\":true},{\"fieldName\":\"HEARING_DATE\",\"format\":{\"dateFormat\":\"shortDate\",\"digitSeparator\":false},\"isEditable\":true,\"label\":\"Hearing Date\",\"visible\":true},{\"fieldName\":\"POSTAL\",\"isEditable\":true,\"label\":\"Postal Code\",\"visible\":true},{\"fieldName\":\"REFERENCE_FILE_NUMBER\",\"isEditable\":true,\"label\":\"Reference File Number\",\"visible\":true},{\"fieldName\":\"REFERENCE_FILE_\",\"isEditable\":true,\"label\":\"Reference File Number\",\"visible\":true},{\"fieldName\":\"STATUS\",\"isEditable\":true,\"label\":\"Status\",\"visible\":true},{\"fieldName\":\"STREET_DIRECTION\",\"isEditable\":true,\"label\":\"Street Direction\",\"visible\":true},{\"fieldName\":\"STREET_NAME\",\"isEditable\":true,\"label\":\"Street Name\",\"visible\":true},{\"fieldName\":\"STREET_NUM\",\"isEditable\":true,\"label\":\"Street Number\",\"visible\":true},{\"fieldName\":\"STREET_TYPE\",\"isEditable\":true,\"label\":\"Street Type\",\"visible\":true},{\"fieldName\":\"X\",\"format\":{\"digitSeparator\":false,\"places\":5},\"isEditable\":true,\"label\":\"X\",\"visible\":true},{\"fieldName\":\"Y\",\"format\":{\"digitSeparator\":false,\"places\":5},\"isEditable\":true,\"label\":\"Y\",\"visible\":true}],\"title\":\"Development Applications: {STREET_NAME}\"}}],\"baseMap\":{\"baseMapLayers\":[{\"id\":\"World_Hillshade_3805\",\"opacity\":1,\"title\":\"World Hillshade\",\"url\":\"https://services.arcgisonline.com/arcgis/rest/services/Elevation/World_Hillshade/MapServer\",\"visibility\":true,\"layerType\":\"ArcGISTiledMapServiceLayer\"},{\"id\":\"VectorTile_2333\",\"opacity\":1,\"title\":\"World Topographic Map\",\"visibility\":true,\"layerType\":\"VectorTileLayer\",\"styleUrl\":\"https://cdn.arcgis.com/sharing/rest/content/items/7dc6cea0b1764a1f9af2e679f642f0f5/resources/styles/root.json\"}],\"title\":\"Topographic\"},\"authoringApp\":\"ArcGISMapViewer\",\"authoringAppVersion\":\"10.1\",\"initialState\":{\"viewpoint\":{\"targetGeometry\":{\"spatialReference\":{\"latestWkid\":3857,\"wkid\":102100},\"xmin\":-8906157.73529152,\"ymin\":5387794.613013394,\"xmax\":-8766889.469756117,\"ymax\":5455135.634932544}}},\"spatialReference\":{\"latestWkid\":3857,\"wkid\":102100},\"version\":\"2.24\",\"widgets\":{}}'''"
   ]
  },
  {
   "cell_type": "code",
   "execution_count": null,
   "metadata": {},
   "outputs": [],
   "source": [
    "# Convert JSON string to dictionary\n",
    "# https://docs.python.org/3/library/json.html#json.loads\n",
    "heat_map_json_dict = json.loads(heat_map_json)"
   ]
  },
  {
   "cell_type": "code",
   "execution_count": null,
   "metadata": {},
   "outputs": [],
   "source": [
    "# Update dictionary\n",
    "heat_map_json_dict[\"operationalLayers\"][0][\"id\"] = heat_map_city_id\n",
    "heat_map_json_dict[\"operationalLayers\"][1][\"id\"] = heat_map_dev_id\n",
    "heat_map_json_dict[\"operationalLayers\"][0][\"url\"] = city_url\n",
    "heat_map_json_dict[\"operationalLayers\"][1][\"url\"] = dev_url\n",
    "heat_map_json_dict[\"operationalLayers\"][0][\"itemId\"] = city_itemid\n",
    "heat_map_json_dict[\"operationalLayers\"][1][\"itemId\"] = dev_itemid"
   ]
  },
  {
   "cell_type": "code",
   "execution_count": null,
   "metadata": {},
   "outputs": [],
   "source": [
    "# Convert dictionary back to JSON string\n",
    "# Reference: https://docs.python.org/3/library/json.html#json.dumps\n",
    "heat_map_json = json.dumps(heat_map_json_dict)"
   ]
  },
  {
   "cell_type": "code",
   "execution_count": null,
   "metadata": {},
   "outputs": [],
   "source": [
    "# Update map configurations\n",
    "# Reference: https://developers.arcgis.com/python/api-reference/arcgis.gis.toc.html#arcgis.gis.Item.update\n",
    "heat_map_prop = {\"text\": heat_map_json}\n",
    "heat_map_item.update(item_properties = heat_map_prop)"
   ]
  },
  {
   "cell_type": "markdown",
   "metadata": {},
   "source": [
    "#### Historic Aerial Imagery"
   ]
  },
  {
   "cell_type": "code",
   "execution_count": null,
   "metadata": {},
   "outputs": [],
   "source": [
    "# Obtain the map layer ids\n",
    "hist_map_imagery_id = hist_map.layers[0].id"
   ]
  },
  {
   "cell_type": "code",
   "execution_count": null,
   "metadata": {},
   "outputs": [],
   "source": [
    "# Add JSON string\n",
    "hist_map_json = r'''{\"operationalLayers\":[{\"id\":\"\",\"showLegend\":true,\"title\":\"Cot historic aerial 1939\",\"url\":\"https://gis.toronto.ca/arcgis/rest/services/basemap/cot_historic_aerial_1939/MapServer\",\"layerType\":\"ArcGISTiledMapServiceLayer\"}],\"baseMap\":{\"baseMapLayers\":[{\"id\":\"World_Imagery_2017\",\"opacity\":1,\"title\":\"World Imagery\",\"url\":\"https://services.arcgisonline.com/ArcGIS/rest/services/World_Imagery/MapServer\",\"visibility\":true,\"layerType\":\"ArcGISTiledMapServiceLayer\"}],\"title\":\"Imagery\"},\"authoringApp\":\"ArcGISMapViewer\",\"authoringAppVersion\":\"10.1\",\"initialState\":{\"viewpoint\":{\"targetGeometry\":{\"spatialReference\":{\"latestWkid\":3857,\"wkid\":102100},\"xmin\":-8901522.878105454,\"ymin\":5386975.296002511,\"xmax\":-8762254.612570051,\"ymax\":5454316.317921661}}},\"spatialReference\":{\"latestWkid\":3857,\"wkid\":102100},\"version\":\"2.24\"}'''"
   ]
  },
  {
   "cell_type": "code",
   "execution_count": null,
   "metadata": {},
   "outputs": [],
   "source": [
    "# Convert JSON string to dictionary\n",
    "# https://docs.python.org/3/library/json.html#json.loads\n",
    "hist_map_json_dict = json.loads(hist_map_json)"
   ]
  },
  {
   "cell_type": "code",
   "execution_count": null,
   "metadata": {},
   "outputs": [],
   "source": [
    "# Update dictionary\n",
    "hist_map_json_dict[\"operationalLayers\"][0][\"id\"] = hist_map_imagery_id"
   ]
  },
  {
   "cell_type": "code",
   "execution_count": null,
   "metadata": {},
   "outputs": [],
   "source": [
    "# Convert dictionary back to JSON string\n",
    "# Reference: https://docs.python.org/3/library/json.html#json.dumps\n",
    "hist_map_json = json.dumps(hist_map_json_dict)"
   ]
  },
  {
   "cell_type": "code",
   "execution_count": null,
   "metadata": {},
   "outputs": [],
   "source": [
    "# Update map configurations\n",
    "# Reference: https://developers.arcgis.com/python/api-reference/arcgis.gis.toc.html#arcgis.gis.Item.update\n",
    "hist_map_prop = {\"text\": hist_map_json}\n",
    "hist_map_item.update(item_properties = hist_map_prop)"
   ]
  },
  {
   "cell_type": "markdown",
   "metadata": {},
   "source": [
    "### 7. Share Items"
   ]
  },
  {
   "cell_type": "code",
   "execution_count": null,
   "metadata": {},
   "outputs": [],
   "source": [
    "# Share items with everyone\n",
    "# Reference: https://developers.arcgis.com/python/api-reference/arcgis.gis.toc.html#arcgis.gis.ContentManager.share_items\n",
    "share_items = [dev_csv, dev_table, dev_item, city_shp, city_item, main_map_item, heat_map_item, hist_map_item]\n",
    "gis.content.share_items(items = share_items, everyone = True)"
   ]
  },
  {
   "cell_type": "markdown",
   "metadata": {},
   "source": [
    "### 8. List Item IDs"
   ]
  },
  {
   "cell_type": "code",
   "execution_count": null,
   "metadata": {},
   "outputs": [],
   "source": [
    "# List all the item IDs for future use\n",
    "print(f\"The item ID of Development Applications (dev_table_itemid) is {dev_table.id}.\")\n",
    "print(f\"The item ID of Development Applications (dev_itemid or dev_itemid_new) is {dev_item.id}.\")\n",
    "print(f\"The item ID of Regional Municipal Boundary (city_itemid or city_itemid_new) is {city_item.id}.\")\n",
    "print(f\"The item ID of Development Activity Tracker - City of Toronto - Main Map (main_map_itemid_new) is {main_map_item.id}.\")\n",
    "print(f\"The item ID of Development Activity Tracker - City of Toronto - Heat Map (heat_map_itemid_new) is {heat_map_item.id}.\")\n",
    "print(f\"The item ID of Historic Aerial Imagery - 1939 (hist_map_itemid_new) is {hist_map_item.id}.\")"
   ]
  }
 ],
 "metadata": {
  "kernelspec": {
   "display_name": "ArcGISPro",
   "language": "Python",
   "name": "python3"
  },
  "language_info": {
   "file_extension": ".py",
   "name": "python",
   "version": "3"
  }
 },
 "nbformat": 4,
 "nbformat_minor": 2
}
